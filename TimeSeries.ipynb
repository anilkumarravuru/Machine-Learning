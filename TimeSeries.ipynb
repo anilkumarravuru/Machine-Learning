{
 "cells": [
  {
   "cell_type": "code",
   "execution_count": 1,
   "metadata": {},
   "outputs": [
    {
     "name": "stdout",
     "output_type": "stream",
     "text": [
      "1609124\n",
      "[[6.]\n",
      " [3.]\n",
      " [1.]\n",
      " [1.]\n",
      " [2.]]\n"
     ]
    }
   ],
   "source": [
    "import os, sys\n",
    "import numpy as np\n",
    "import pandas as pd\n",
    "from sklearn.metrics import mean_squared_error\n",
    "from sklearn.preprocessing import OneHotEncoder\n",
    "from sklearn.linear_model import LinearRegression\n",
    "from sklearn.ensemble import RandomForestRegressor\n",
    "from sklearn.dummy import DummyRegressor\n",
    "import matplotlib.pyplot as plt\n",
    "from mpl_toolkits.mplot3d import Axes3D\n",
    "from sklearn.metrics import classification_report, confusion_matrix, roc_curve, auc, hamming_loss\n",
    "from sklearn.model_selection import cross_val_predict\n",
    "\n",
    "items = pd.read_csv('../Dataset_Predict_Future_Sales/items.csv')\n",
    "shops = pd.read_csv('../Dataset_Predict_Future_Sales/shops.csv')\n",
    "cat = pd.read_csv('../Dataset_Predict_Future_Sales/item_categories.csv')\n",
    "train = pd.read_csv('../Dataset_Predict_Future_Sales/sales_train.csv')\n",
    "test  = pd.read_csv('../Dataset_Predict_Future_Sales/test.csv')\n",
    "submission = pd.read_csv('../Dataset_Predict_Future_Sales/sample_submission.csv')\n",
    "\n",
    "gp = train.groupby(['date_block_num', 'shop_id', 'item_id']).agg({'item_cnt_day': ['sum']})\n",
    "X = np.array(list(map(list, gp.index.values)))\n",
    "y_train = gp.values\n",
    "test['date_block_num'] = train['date_block_num'].max() + 1\n",
    "X_test = test[['date_block_num', 'shop_id', 'item_id']].values\n",
    "\n",
    "\n",
    "enc = OneHotEncoder(categories='auto').fit(X[:,0].reshape(-1, 1))\n",
    "x0 = enc.transform(X[:,0].reshape(-1, 1))\n",
    "enc = OneHotEncoder(categories='auto').fit(X[:,1].reshape(-1, 1))\n",
    "x1 = enc.transform(X[:,1].reshape(-1, 1))\n",
    "x1_t = enc.transform(X_test[:,1].reshape(-1, 1))\n",
    "X_train = np.concatenate((X[:, :1], x1.toarray(), X[:, 2:]), axis=1)\n",
    "X_test = np.concatenate((X_test[:, :1], x1_t.toarray(), X_test[:, 2:]), axis=1)\n",
    "print(len(X_train))\n",
    "print(y_train[:5])"
   ]
  },
  {
   "cell_type": "code",
   "execution_count": 2,
   "metadata": {},
   "outputs": [],
   "source": [
    "from sklearn.linear_model import LinearRegression\n",
    "from sklearn.ensemble import RandomForestClassifier\n",
    "from sklearn.svm import SVR\n",
    "from sklearn.neighbors import KNeighborsRegressor\n",
    "\n",
    "def linear_regression(X, y):\n",
    "    cross_fold_vals = [3, 5]\n",
    "    for cf_val in cross_fold_vals:\n",
    "        linreg = LinearRegression()\n",
    "        y_pred = cross_val_predict(linreg, X_train, y_train.ravel(), cv=cf_val)\n",
    "        evaluations('Linear Regression with CV = ' + str(cf_val), y, y_pred)\n",
    "    return\n",
    "\n",
    "def random_forest(X, y):\n",
    "    cross_fold_vals = [5]\n",
    "    estimator_values = [1, 2]\n",
    "    for cf_val in cross_fold_vals:\n",
    "        for est in estimator_values:\n",
    "            rf = RandomForestRegressor(n_estimators=est)\n",
    "            y_pred = cross_val_predict(rf, X_train, y_train.ravel(), cv=cf_val)\n",
    "            evaluations('Random Forest with CV = ' +str(cf_val) + ' estimator value ' + str(est), y, y_pred)\n",
    "    return\n",
    "\n",
    "def support_vector_regressor(X, y):\n",
    "    cross_fold_vals = [5]\n",
    "    kernal_types = ['linear']\n",
    "    for cf_val in cross_fold_vals:\n",
    "        for kernal in kernal_types:\n",
    "            svr = SVR(kernel=kernal)\n",
    "            y_pred = cross_val_predict(svr, X_train, y_train.ravel(), cv=cf_val)\n",
    "            evaluations('SVM with CV = 5 and ' + str(kernal) + ' kernal', y, y_pred)\n",
    "    return\n",
    "\n",
    "def knn_regressor(X, y):\n",
    "    cross_fold_vals = [5]\n",
    "    neighbors_k_vals = [1, 2, 5]\n",
    "    for cf_val in cross_fold_vals:\n",
    "        for k in neighbors_k_vals:\n",
    "            knn = KNeighborsRegressor(n_neighbors = k)\n",
    "            y_pred = cross_val_predict(knn, X_train, y_train.ravel(), cv=cf_val)\n",
    "            evaluations('KNN with CV = 5 and k=' + str(k), y, y_pred)\n",
    "    return\n",
    "\n",
    "def evaluations(title, y_test, y_pred):\n",
    "    print('Performance results for ', title)\n",
    "    print(np.sqrt(mean_squared_error(y_test, y_pred)))\n",
    "    print('###############################################################\\n')\n",
    "    return\n"
   ]
  },
  {
   "cell_type": "code",
   "execution_count": 3,
   "metadata": {},
   "outputs": [
    {
     "name": "stdout",
     "output_type": "stream",
     "text": [
      "Performance results for  Linear Regression with CV = 3\n",
      "8.638177560998901\n",
      "###############################################################\n",
      "\n",
      "Performance results for  Linear Regression with CV = 5\n",
      "8.635403295786874\n",
      "###############################################################\n",
      "\n"
     ]
    }
   ],
   "source": [
    "linear_regression(X_train, y_train)"
   ]
  },
  {
   "cell_type": "code",
   "execution_count": 4,
   "metadata": {},
   "outputs": [
    {
     "name": "stdout",
     "output_type": "stream",
     "text": [
      "Performance results for  Random Forest with CV = 5 estimator value 1\n",
      "7.882126295616833\n",
      "###############################################################\n",
      "\n",
      "Performance results for  Random Forest with CV = 5 estimator value 2\n",
      "7.5100725816558285\n",
      "###############################################################\n",
      "\n"
     ]
    }
   ],
   "source": [
    "random_forest(X_train, y_train)"
   ]
  },
  {
   "cell_type": "code",
   "execution_count": 5,
   "metadata": {},
   "outputs": [
    {
     "name": "stdout",
     "output_type": "stream",
     "text": [
      "Performance results for  KNN with CV = 5 and k=1\n",
      "7.8949404016937486\n",
      "###############################################################\n",
      "\n",
      "Performance results for  KNN with CV = 5 and k=2\n",
      "7.696007391998315\n",
      "###############################################################\n",
      "\n",
      "Performance results for  KNN with CV = 5 and k=5\n",
      "8.833577584422383\n",
      "###############################################################\n",
      "\n"
     ]
    }
   ],
   "source": [
    "knn_regressor(X_train, y_train)"
   ]
  },
  {
   "cell_type": "code",
   "execution_count": null,
   "metadata": {},
   "outputs": [],
   "source": [
    "#support_vector_regressor(X_train, y_train)\n",
    "# Taking So much time for this huge dataset of 424124 rows"
   ]
  }
 ],
 "metadata": {
  "kernelspec": {
   "display_name": "Python 3",
   "language": "python",
   "name": "python3"
  },
  "language_info": {
   "codemirror_mode": {
    "name": "ipython",
    "version": 3
   },
   "file_extension": ".py",
   "mimetype": "text/x-python",
   "name": "python",
   "nbconvert_exporter": "python",
   "pygments_lexer": "ipython3",
   "version": "3.7.4"
  }
 },
 "nbformat": 4,
 "nbformat_minor": 2
}
