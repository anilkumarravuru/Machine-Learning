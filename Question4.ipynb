{
 "cells": [
  {
   "cell_type": "code",
   "execution_count": 19,
   "metadata": {},
   "outputs": [
    {
     "name": "stdout",
     "output_type": "stream",
     "text": [
      "Epoch 1/5\n",
      "214200/214200 [==============================] - 67s 311us/step - loss: 30.5379 - mean_squared_error: 30.5379\n",
      "Epoch 2/5\n",
      "214200/214200 [==============================] - 61s 286us/step - loss: 30.3833 - mean_squared_error: 30.3833\n",
      "Epoch 3/5\n",
      "214200/214200 [==============================] - 63s 296us/step - loss: 30.1970 - mean_squared_error: 30.1970\n",
      "Epoch 4/5\n",
      "214200/214200 [==============================] - 59s 277us/step - loss: 30.1485 - mean_squared_error: 30.1485\n",
      "Epoch 5/5\n",
      "214200/214200 [==============================] - 60s 281us/step - loss: 29.9881 - mean_squared_error: 29.9881\n",
      "\n",
      "Root Mean Squared Error:  1.1335187216521547\n"
     ]
    }
   ],
   "source": [
    "import pandas as pd\n",
    "import numpy as np\n",
    "import warnings\n",
    "from keras.models import Sequential\n",
    "from keras.layers import Dense\n",
    "from keras.layers import LSTM\n",
    "from keras.layers import Dropout\n",
    "from sklearn.metrics import mean_squared_error\n",
    "\n",
    "\n",
    "def CNN_LSTM(X, y):\n",
    "    reg = Sequential()\n",
    "    reg.add(LSTM(units = 64,input_shape = (33,1)))\n",
    "    reg.add(Dropout(0.5))\n",
    "    reg.add(Dense(1))\n",
    "    reg.compile(loss = 'mse', optimizer = 'adam', metrics = ['mean_squared_error'])\n",
    "    reg.fit(X, y, batch_size = 8192, epochs = 5)\n",
    "    test_part_x = X[0:24124]\n",
    "    test_part_y = y[0:24124]\n",
    "    y_pred = reg.predict(test_part_x)\n",
    "    print('\\nRoot Mean Squared Error: ', np.sqrt(mean_squared_error(test_part_y, y_pred)))\n",
    "\n",
    "def main():\n",
    "    item_cat_df = pd.read_csv('../Dataset_Predict_Future_Sales/item_categories.csv')\n",
    "    item_df = pd.read_csv('../Dataset_Predict_Future_Sales/items.csv')\n",
    "    sales_df = pd.read_csv('../Dataset_Predict_Future_Sales/sales_train.csv')\n",
    "    submission_df = pd.read_csv('../Dataset_Predict_Future_Sales/sample_submission.csv')\n",
    "    shops_df = pd.read_csv('../Dataset_Predict_Future_Sales/shops.csv')\n",
    "    test_df = pd.read_csv('../Dataset_Predict_Future_Sales/test.csv')\n",
    "    \n",
    "    sales_df['date'] = pd.to_datetime(sales_df['date'], format = '%d.%m.%Y')\n",
    "    sales_dt = sales_df.pivot_table(index=['shop_id', 'item_id'], values=['item_cnt_day'], columns=['date_block_num'], fill_value=0, aggfunc='sum')\n",
    "    sales_dt.reset_index(inplace = True)\n",
    "    sales_dt = pd.merge(test_df, sales_dt, on = ['item_id','shop_id'], how = 'left')\n",
    "    sales_dt.fillna(0,inplace = True)\n",
    "    sales_dt.drop(['shop_id','item_id','ID'],inplace = True, axis = 1)\n",
    "    X_train = np.expand_dims(sales_dt.values[:,:-1], axis = 2)\n",
    "    y_train = sales_dt.values[:,-1:]\n",
    "    X_test = np.expand_dims(sales_dt.values[:,1:], axis = 2)\n",
    "    CNN_LSTM(X_train, y_train)\n",
    "    \n",
    "if __name__ == '__main__':\n",
    "    warnings.filterwarnings('ignore')\n",
    "    main()\n",
    "    "
   ]
  },
  {
   "cell_type": "code",
   "execution_count": null,
   "metadata": {},
   "outputs": [],
   "source": []
  }
 ],
 "metadata": {
  "kernelspec": {
   "display_name": "Python 3",
   "language": "python",
   "name": "python3"
  },
  "language_info": {
   "codemirror_mode": {
    "name": "ipython",
    "version": 3
   },
   "file_extension": ".py",
   "mimetype": "text/x-python",
   "name": "python",
   "nbconvert_exporter": "python",
   "pygments_lexer": "ipython3",
   "version": "3.7.4"
  }
 },
 "nbformat": 4,
 "nbformat_minor": 2
}
